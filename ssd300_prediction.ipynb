{
 "cells": [
  {
   "cell_type": "code",
   "execution_count": 1,
   "metadata": {},
   "outputs": [
    {
     "name": "stderr",
     "output_type": "stream",
     "text": [
      "Using TensorFlow backend.\n"
     ]
    },
    {
     "name": "stdout",
     "output_type": "stream",
     "text": [
      "WARNING:tensorflow:From /Users/tranle/anaconda3/lib/python3.6/site-packages/tensorflow/python/framework/op_def_library.py:263: colocate_with (from tensorflow.python.framework.ops) is deprecated and will be removed in a future version.\n",
      "Instructions for updating:\n",
      "Colocations handled automatically by placer.\n"
     ]
    }
   ],
   "source": [
    "from keras.optimizers import Adam\n",
    "from keras.callbacks import ModelCheckpoint, EarlyStopping, ReduceLROnPlateau, CSVLogger, LearningRateScheduler, TensorBoard\n",
    "from keras import backend as K\n",
    "from keras.callbacks import History, ModelCheckpoint\n",
    "from keras.models import load_model\n",
    "from ssd300 import build_SSD300\n",
    "# from parser import Parser\n",
    "import matplotlib.pyplot as plt\n",
    "import numpy as np\n",
    "import os\n",
    "from load_pred import load_img, resize_im\n",
    "from metrics import iou_metrics\n",
    "from Decoder import Decoder, batch_decoder, decode_output\n",
    "# from Encoder import Encoder, encode_batch\n",
    "from box_utils import IoU, generate_default_boxes\n",
    "from loss_function import loss_function\n",
    "from keras import metrics, losses\n",
    "import h5py\n",
    "from pycocotools.coco import COCO"
   ]
  },
  {
   "cell_type": "code",
   "execution_count": 2,
   "metadata": {},
   "outputs": [],
   "source": [
    "# Configuration of the model: \n",
    "numClasses = 70\n",
    "input_shape = (300, 300, 3)\n",
    "nms_thres=0.0 # IoU threshold for non-maximal suppression\n",
    "score_thres=0.01 # threshold for classification scores\n",
    "top_k=200 # the maximum number of predictions kept per image\n",
    "map_size=[38, 19, 10, 5, 3, 1]\n",
    "min_scale=0.2 # the smallest scale of the feature map\n",
    "max_scale=0.9 # the largest scale of the feature map\n",
    "aspect_ratios=[0.5, 1, 2] # aspect ratios of the default boxes to be generated\n",
    "n_layers=6 # the number of prediction blocks\n",
    "prediction_size=[38, 19, 10, 5, 3, 1] # sizes of feature maps at each level\n",
    "fileName = \"pred_img.txt\"\n",
    "model_path = os.getcwd()\n",
    "model_path = os.path.join(model_path, 'weights.04-0.38.hdf5')\n",
    "\n",
    "im_collection = load_img(fileName)"
   ]
  },
  {
   "cell_type": "code",
   "execution_count": 3,
   "metadata": {},
   "outputs": [],
   "source": [
    "K.clear_session() # Clear previous session\n",
    "\n",
    "defaults = generate_default_boxes(n_layers=n_layers, \n",
    "                                min_scale=min_scale, \n",
    "                                max_scale=max_scale, \n",
    "                                map_size=prediction_size, \n",
    "                                aspect_ratios=aspect_ratios)"
   ]
  },
  {
   "cell_type": "code",
   "execution_count": 4,
   "metadata": {},
   "outputs": [
    {
     "name": "stdout",
     "output_type": "stream",
     "text": [
      "WARNING:tensorflow:From /Users/tranle/anaconda3/lib/python3.6/site-packages/tensorflow/python/ops/math_ops.py:3066: to_int32 (from tensorflow.python.ops.math_ops) is deprecated and will be removed in a future version.\n",
      "Instructions for updating:\n",
      "Use tf.cast instead.\n",
      "WARNING:tensorflow:From /Users/tranle/anaconda3/lib/python3.6/site-packages/tensorflow/python/ops/math_grad.py:102: div (from tensorflow.python.ops.math_ops) is deprecated and will be removed in a future version.\n",
      "Instructions for updating:\n",
      "Deprecated in favor of operator or tf.math.divide.\n"
     ]
    }
   ],
   "source": [
    "# Create a metrics function\n",
    "def iou(Y_true, Y_pred): \n",
    "    return iou_metrics(Y_true, Y_pred, defaults)\n",
    "\n",
    "model = load_model(model_path, custom_objects={'loss_function': loss_function, 'iou': iou})\n",
    "adam = Adam(lr=0.001, beta_1=0.9, beta_2=0.999, epsilon=1e-08, decay=0.0)\n",
    "model.compile(optimizer=adam, loss=loss_function, metrics=['accuracy', iou])\n"
   ]
  },
  {
   "cell_type": "code",
   "execution_count": 5,
   "metadata": {},
   "outputs": [],
   "source": [
    "n_pred = im_collection.shape[0]\n",
    "pred_data = resize_im(im_collection, input_shape=input_shape)\n",
    "pred = model.predict(pred_data)"
   ]
  },
  {
   "cell_type": "code",
   "execution_count": 6,
   "metadata": {},
   "outputs": [],
   "source": [
    "decoded_pred = batch_decoder(pred, \n",
    "                            numClasses=numClasses,\n",
    "                            n_layers=n_layers, \n",
    "                            min_scale=min_scale, \n",
    "                            max_scale=max_scale, \n",
    "                            nms_thres=0, \n",
    "                            score_thres=score_thres, \n",
    "                            top_k=top_k, \n",
    "                            aspect_ratios=aspect_ratios)"
   ]
  },
  {
   "cell_type": "code",
   "execution_count": 8,
   "metadata": {},
   "outputs": [
    {
     "name": "stdout",
     "output_type": "stream",
     "text": [
      "loading annotations into memory...\n",
      "Done (t=0.66s)\n",
      "creating index...\n",
      "index created!\n",
      "['person', 'bicycle', 'car', 'motorcycle', 'airplane', 'bus', 'train', 'truck', 'boat', 'traffic light', 'fire hydrant', 'stop sign', 'parking meter', 'bench', 'bird', 'cat', 'dog', 'horse', 'sheep', 'cow', 'elephant', 'bear', 'zebra', 'giraffe', 'backpack', 'umbrella', 'handbag', 'tie', 'suitcase', 'frisbee', 'skis', 'snowboard', 'sports ball', 'kite', 'baseball bat', 'baseball glove', 'skateboard', 'surfboard', 'tennis racket', 'bottle', 'wine glass', 'cup', 'fork', 'knife', 'spoon', 'bowl', 'banana', 'apple', 'sandwich', 'orange', 'broccoli', 'carrot', 'hot dog', 'pizza', 'donut', 'cake', 'chair', 'couch', 'potted plant', 'bed', 'dining table', 'toilet', 'tv', 'laptop', 'mouse', 'remote', 'keyboard', 'cell phone', 'microwave', 'oven']\n"
     ]
    }
   ],
   "source": [
    "colors = plt.cm.hsv(np.linspace(0, 1, numClasses+1)).tolist()\n",
    "data_dir = \"/Users/tranle/mscoco\"\n",
    "data_type = \"val2017\"\n",
    "annFile = '{}/annotations/instances_{}.json'.format(data_dir,data_type)\n",
    "coco = COCO(annFile)\n",
    "cats = coco.loadCats(coco.getCatIds())\n",
    "classes = [cat['name'] for cat in cats][:numClasses]\n",
    "print(classes)\n",
    "\n",
    "\n",
    "# for i in range(n_pred): \n",
    "#     curr = im_collection[i]\n",
    "#     im_shape = curr.shape\n",
    "#     curr_pred = decoded_pred[i]\n",
    "#     plt.figure(figsize=(20,12))\n",
    "#     plt.imshow(curr)\n",
    "#     current_axis = plt.gca()\n",
    "#     n_boxes = curr_pred.shape[0]\n",
    "#     print(n_boxes)\n",
    "#     for j in range(n_boxes): \n",
    "#         curr_box = curr_pred[j]\n",
    "#         xmin = curr_box[-4]*im_shape[0]\n",
    "#         ymin = curr_box[-3]*im_shape[1]\n",
    "#         xmax = curr_box[-2]*im_shape[0]\n",
    "#         ymax = curr_box[-1]*im_shape[1]\n",
    "#         label_id = curr_box[0]# Find the correct class where it is not zero\n",
    "#         score = curr_box[1]\n",
    "#         color = colors[int(label_id)]\n",
    "#         label = '{}: {:.2f}'.format(classes[int(label_id)], score)\n",
    "#         current_axis.add_patch(plt.Rectangle((xmin, ymin), xmax-xmin, ymax-ymin, color=color, fill=False, linewidth=2))  \n",
    "#         current_axis.text(xmin, ymin, label, size='x-large', color='white', bbox={'facecolor':color, 'alpha':1.0})"
   ]
  },
  {
   "cell_type": "code",
   "execution_count": null,
   "metadata": {},
   "outputs": [],
   "source": []
  }
 ],
 "metadata": {
  "kernelspec": {
   "display_name": "Python 3",
   "language": "python",
   "name": "python3"
  },
  "language_info": {
   "codemirror_mode": {
    "name": "ipython",
    "version": 3
   },
   "file_extension": ".py",
   "mimetype": "text/x-python",
   "name": "python",
   "nbconvert_exporter": "python",
   "pygments_lexer": "ipython3",
   "version": "3.6.8"
  }
 },
 "nbformat": 4,
 "nbformat_minor": 2
}
