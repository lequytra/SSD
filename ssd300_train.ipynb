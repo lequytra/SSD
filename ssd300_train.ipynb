{
 "cells": [
  {
   "cell_type": "code",
   "execution_count": 1,
   "metadata": {},
   "outputs": [
    {
     "name": "stderr",
     "output_type": "stream",
     "text": [
      "Using TensorFlow backend.\n"
     ]
    }
   ],
   "source": [
    "from keras.optimizers import Adam\n",
    "from keras.callbacks import ModelCheckpoint, EarlyStopping, ReduceLROnPlateau, TerminateOnNaN, CSVLogger\n",
    "from keras import backend as K\n",
    "from keras.callbacks import History, ModelCheckpoint\n",
    "from sklearn.model_selection import train_test_split\n",
    "from ssd300 import build_SSD300\n",
    "from parser import Parser\n",
    "import os\n",
    "from Decoder import Decoder\n",
    "from Encoder import Encoder"
   ]
  },
  {
   "cell_type": "code",
   "execution_count": 2,
   "metadata": {},
   "outputs": [],
   "source": [
    "# Configuration of the model: \n",
    "input_shape=(300, 300, 3)\n",
    "numClasses = 10\n",
    "iou_thres=0.5 # for default and gt matching\n",
    "nms_thres=0.45 # IoU threshold for non-maximal suppression\n",
    "score_thres=0.01 # threshold for classification scores\n",
    "top_k=200 # the maximum number of predictions kept per image\n",
    "min_scale=0.2 # the smallest scale of the feature map\n",
    "max_scale=0.9 # the largest scale of the feature map\n",
    "aspect_ratios=[0.5, 1, 2] # aspect ratios of the default boxes to be generated\n",
    "n_predictions=6 # the number of prediction blocks\n",
    "prediction_size=[37, 18, 10, 5, 3, 1] # sizes of feature maps at each level"
   ]
  },
  {
   "cell_type": "markdown",
   "metadata": {},
   "source": [
    "### Parse Input: \n"
   ]
  },
  {
   "cell_type": "code",
   "execution_count": 3,
   "metadata": {},
   "outputs": [
    {
     "name": "stdout",
     "output_type": "stream",
     "text": [
      "loading annotations into memory...\n",
      "Done (t=0.51s)\n",
      "creating index...\n",
      "index created!\n"
     ]
    }
   ],
   "source": [
    "data_dir = \"/Users/tranle/mscoco\"\n",
    "data_type = \"val2017\"\n",
    "\n",
    "# Initialize a parser object\n",
    "parser = Parser(data_dir, data_type)\n",
    "\n",
    "# Load images and annotations for the image\n",
    "# For now, we load only 10 first classes and images are resize to (300,300,3) for training purposes\n",
    "\n",
    "X, Y = parser.load_data()"
   ]
  },
  {
   "cell_type": "markdown",
   "metadata": {},
   "source": [
    "### Ecode Parsed Input: \n",
    "In this step, we perform bipartite matching and multi-matching algorithm to match default boxes generated with the ground-truth labels of our training data. "
   ]
  },
  {
   "cell_type": "code",
   "execution_count": 4,
   "metadata": {},
   "outputs": [
    {
     "ename": "NameError",
     "evalue": "name 'aspect_ratio' is not defined",
     "output_type": "error",
     "traceback": [
      "\u001b[0;31m---------------------------------------------------------------------------\u001b[0m",
      "\u001b[0;31mNameError\u001b[0m                                 Traceback (most recent call last)",
      "\u001b[0;32m<ipython-input-4-895bc6b8b14c>\u001b[0m in \u001b[0;36m<module>\u001b[0;34m\u001b[0m\n\u001b[1;32m      7\u001b[0m                 \u001b[0maspect_ratio\u001b[0m\u001b[0;34m=\u001b[0m\u001b[0maspect_ratios\u001b[0m\u001b[0;34m,\u001b[0m\u001b[0;34m\u001b[0m\u001b[0;34m\u001b[0m\u001b[0m\n\u001b[1;32m      8\u001b[0m                 \u001b[0mn_predictions\u001b[0m\u001b[0;34m=\u001b[0m\u001b[0mn_predictions\u001b[0m\u001b[0;34m,\u001b[0m\u001b[0;34m\u001b[0m\u001b[0;34m\u001b[0m\u001b[0m\n\u001b[0;32m----> 9\u001b[0;31m                 prediction_size=prediction_size)\n\u001b[0m\u001b[1;32m     10\u001b[0m \u001b[0;34m\u001b[0m\u001b[0m\n\u001b[1;32m     11\u001b[0m \u001b[0;31m# Encode the labels and ground-truth boxes of the training images\u001b[0m\u001b[0;34m\u001b[0m\u001b[0;34m\u001b[0m\u001b[0;34m\u001b[0m\u001b[0m\n",
      "\u001b[0;32m~/FinalProject/SSD/Encoder.py\u001b[0m in \u001b[0;36m__init__\u001b[0;34m(self, y_truth, numClasses, input_shape, iou_thres, min_scale, max_scale, aspect_ratio, n_predictions, prediction_size)\u001b[0m\n\u001b[1;32m     41\u001b[0m                 \u001b[0mself\u001b[0m\u001b[0;34m.\u001b[0m\u001b[0mscales\u001b[0m \u001b[0;34m=\u001b[0m \u001b[0mnp\u001b[0m\u001b[0;34m.\u001b[0m\u001b[0mlinspace\u001b[0m\u001b[0;34m(\u001b[0m\u001b[0mstart\u001b[0m\u001b[0;34m=\u001b[0m\u001b[0mmin_scale\u001b[0m\u001b[0;34m,\u001b[0m \u001b[0mstop\u001b[0m\u001b[0;34m=\u001b[0m\u001b[0mmax_scale\u001b[0m\u001b[0;34m,\u001b[0m \u001b[0mnum\u001b[0m\u001b[0;34m=\u001b[0m\u001b[0mn_predictions\u001b[0m\u001b[0;34m)\u001b[0m\u001b[0;34m\u001b[0m\u001b[0;34m\u001b[0m\u001b[0m\n\u001b[1;32m     42\u001b[0m                 \u001b[0mself\u001b[0m\u001b[0;34m.\u001b[0m\u001b[0mmap_size\u001b[0m \u001b[0;34m=\u001b[0m \u001b[0mprediction_size\u001b[0m\u001b[0;34m\u001b[0m\u001b[0;34m\u001b[0m\u001b[0m\n\u001b[0;32m---> 43\u001b[0;31m                 \u001b[0mself\u001b[0m\u001b[0;34m.\u001b[0m\u001b[0mdefault\u001b[0m \u001b[0;34m=\u001b[0m \u001b[0mself\u001b[0m\u001b[0;34m.\u001b[0m\u001b[0mgenerate_default_boxes\u001b[0m\u001b[0;34m(\u001b[0m\u001b[0;34m)\u001b[0m\u001b[0;34m\u001b[0m\u001b[0;34m\u001b[0m\u001b[0m\n\u001b[0m\u001b[1;32m     44\u001b[0m                 \u001b[0mself\u001b[0m\u001b[0;34m.\u001b[0m\u001b[0mbackground_id\u001b[0m \u001b[0;34m=\u001b[0m \u001b[0;36m0\u001b[0m\u001b[0;34m\u001b[0m\u001b[0;34m\u001b[0m\u001b[0m\n\u001b[1;32m     45\u001b[0m                 \u001b[0mself\u001b[0m\u001b[0;34m.\u001b[0m\u001b[0mlabels\u001b[0m \u001b[0;34m=\u001b[0m \u001b[0my_truth\u001b[0m\u001b[0;34m[\u001b[0m\u001b[0;34m:\u001b[0m\u001b[0;34m,\u001b[0m \u001b[0;34m:\u001b[0m\u001b[0;34m-\u001b[0m\u001b[0;36m4\u001b[0m\u001b[0;34m]\u001b[0m\u001b[0;34m\u001b[0m\u001b[0;34m\u001b[0m\u001b[0m\n",
      "\u001b[0;32m~/FinalProject/SSD/Encoder.py\u001b[0m in \u001b[0;36mgenerate_default_boxes\u001b[0;34m(self)\u001b[0m\n\u001b[1;32m     69\u001b[0m                                 \u001b[0my\u001b[0m \u001b[0;34m=\u001b[0m \u001b[0;34m(\u001b[0m\u001b[0mj\u001b[0m \u001b[0;34m+\u001b[0m \u001b[0;36m0.5\u001b[0m\u001b[0;34m)\u001b[0m\u001b[0;34m/\u001b[0m\u001b[0mself\u001b[0m\u001b[0;34m.\u001b[0m\u001b[0mmap_size\u001b[0m\u001b[0;34m[\u001b[0m\u001b[0mlevel\u001b[0m\u001b[0;34m]\u001b[0m\u001b[0;34m\u001b[0m\u001b[0;34m\u001b[0m\u001b[0m\n\u001b[1;32m     70\u001b[0m \u001b[0;34m\u001b[0m\u001b[0m\n\u001b[0;32m---> 71\u001b[0;31m                                 \u001b[0;32mfor\u001b[0m \u001b[0mratio\u001b[0m \u001b[0;32min\u001b[0m \u001b[0maspect_ratio\u001b[0m\u001b[0;34m:\u001b[0m\u001b[0;34m\u001b[0m\u001b[0;34m\u001b[0m\u001b[0m\n\u001b[0m\u001b[1;32m     72\u001b[0m                                         \u001b[0mbox\u001b[0m \u001b[0;34m=\u001b[0m \u001b[0mnp\u001b[0m\u001b[0;34m.\u001b[0m\u001b[0mempty\u001b[0m\u001b[0;34m(\u001b[0m\u001b[0mshape\u001b[0m\u001b[0;34m=\u001b[0m\u001b[0;34m(\u001b[0m\u001b[0;36m1\u001b[0m\u001b[0;34m,\u001b[0m \u001b[0;36m4\u001b[0m\u001b[0;34m)\u001b[0m\u001b[0;34m)\u001b[0m\u001b[0;34m\u001b[0m\u001b[0;34m\u001b[0m\u001b[0m\n\u001b[1;32m     73\u001b[0m \u001b[0;34m\u001b[0m\u001b[0m\n",
      "\u001b[0;31mNameError\u001b[0m: name 'aspect_ratio' is not defined"
     ]
    }
   ],
   "source": [
    "# Initialize an Ecoder object\n",
    "encode = Encoder(y_truth=Y, \n",
    "                numClasses=numClasses, \n",
    "                iou_thres=iou_thres,\n",
    "                min_scale=min_scale, \n",
    "                max_scale=max_scale, \n",
    "                aspect_ratios=aspect_ratios, \n",
    "                n_predictions=n_predictions, \n",
    "                prediction_size=prediction_size)\n",
    "\n",
    "# Encode the labels and ground-truth boxes of the training images\n",
    "Y = encode.get_encoded_data()\n",
    "\n",
    "# Split the data into train and test datasets\n",
    "X_train, Y_train, X_test, Y_test = train_test_split(X, Y, test_size=0.2)"
   ]
  },
  {
   "cell_type": "code",
   "execution_count": null,
   "metadata": {},
   "outputs": [],
   "source": [
    "# Build the SSD model\n",
    "K.clear_session() # Clear previous session\n",
    "\n",
    "# Build the model\n",
    "model = build_SSD300(input_shape=input_shape, \n",
    "                  numClasses=numClasses, \n",
    "                  mode='training', \n",
    "                  min_scale=min_scale, \n",
    "                  max_scale=max_scale, \n",
    "                  aspect_ratios=aspect_ratios, \n",
    "                  iou_thres=iou_thres,\n",
    "                  nms_thres=nms_thres, \n",
    "                  score_thres=score_thres, \n",
    "                  top_k=top_k,\n",
    "                  n_predictions=n_predictions)\n",
    "\n",
    "# Instantiate the Adam optimizer for the model\n",
    "adam = Adam(lr=0.001, beta_1=0.9, beta_2=0.999, epsilon=1e-08, decay=0.0)\n",
    "\n",
    "# Compile the model\n",
    "model.compile(optimizer=adam, loss=loss_function, \n",
    "             metrics=['accuracy'])\n",
    "\n"
   ]
  },
  {
   "cell_type": "markdown",
   "metadata": {},
   "source": [
    "### Create checkpoints to store learned weights: \n"
   ]
  },
  {
   "cell_type": "code",
   "execution_count": null,
   "metadata": {},
   "outputs": [],
   "source": [
    "# Path to store learn weights\n",
    "path = os.getcwd()\n",
    "\n",
    "checkpoints = ModelCheckpoint(filepath=ssd7_epoch-{epoch:2d}_loss-{loss:.4f}_val_loss\n",
    "                              -{val_loss:.4f}.h5', \n",
    "                             monitor='val_loss'\n",
    "                             verbose=1, \n",
    "                             save_best_only=True, \n",
    "                             save_weights_only=False, \n",
    "                             mode='min', \n",
    "                             period=1)"
   ]
  }
 ],
 "metadata": {
  "kernelspec": {
   "display_name": "Python 3",
   "language": "python",
   "name": "python3"
  },
  "language_info": {
   "codemirror_mode": {
    "name": "ipython",
    "version": 3
   },
   "file_extension": ".py",
   "mimetype": "text/x-python",
   "name": "python",
   "nbconvert_exporter": "python",
   "pygments_lexer": "ipython3",
   "version": "3.7.3"
  }
 },
 "nbformat": 4,
 "nbformat_minor": 2
}
