{
 "cells": [
  {
   "cell_type": "code",
   "execution_count": 1,
   "metadata": {},
   "outputs": [
    {
     "name": "stderr",
     "output_type": "stream",
     "text": [
      "Using TensorFlow backend.\n"
     ]
    }
   ],
   "source": [
    "from keras.optimizers import Adam\n",
    "from keras.callbacks import ModelCheckpoint, EarlyStopping, ReduceLROnPlateau, CSVLogger, LearningRateScheduler, TensorBoard\n",
    "from keras import backend as K\n",
    "from keras.callbacks import History, ModelCheckpoint\n",
    "from sklearn.model_selection import train_test_split\n",
    "from ssd300 import build_SSD300\n",
    "from parser import Parser\n",
    "import matplotlib.pyplot as plt\n",
    "import numpy as np\n",
    "import os\n",
    "from Decoder import Decoder\n",
    "from Encoder import Encoder, encode_batch\n",
    "from box_utils import IoU, generate_default_boxes\n",
    "from loss_function import loss_function\n",
    "from keras import metrics, losses"
   ]
  },
  {
   "cell_type": "code",
   "execution_count": 2,
   "metadata": {},
   "outputs": [],
   "source": [
    "# Configuration of the model: \n",
    "input_shape=(300, 300, 3)\n",
    "numClasses = 10\n",
    "iou_thres=0.5 # for default and gt matching\n",
    "nms_thres=0.45 # IoU threshold for non-maximal suppression\n",
    "score_thres=0.01 # threshold for classification scores\n",
    "top_k=200 # the maximum number of predictions kept per image\n",
    "min_scale=0.2 # the smallest scale of the feature map\n",
    "max_scale=0.9 # the largest scale of the feature map\n",
    "aspect_ratios=[0.5, 1, 2] # aspect ratios of the default boxes to be generated\n",
    "n_predictions=6 # the number of prediction blocks\n",
    "prediction_size=[38, 19, 10, 5, 3, 1] # sizes of feature maps at each level"
   ]
  },
  {
   "cell_type": "markdown",
   "metadata": {},
   "source": [
    "### Parse Input: \n"
   ]
  },
  {
   "cell_type": "code",
   "execution_count": 3,
   "metadata": {},
   "outputs": [
    {
     "name": "stdout",
     "output_type": "stream",
     "text": [
      "loading annotations into memory...\n",
      "Done (t=0.51s)\n",
      "creating index...\n",
      "index created!\n",
      "/Users/tranle/FinalProject/SSD/imagePaths.txt\n",
      "Shape of parsed images: (3150, 300, 300, 3)\n",
      "Shape of parsed labels: (3150,)\n",
      "Shape of one label: (8, 14)\n"
     ]
    }
   ],
   "source": [
    "data_dir = \"/Users/tranle/mscoco\"\n",
    "training_data = \"val2017\"\n",
    "# Initialize a parser object\n",
    "parser = Parser(data_dir, training_data)\n",
    "\n",
    "# Load images and annotations for the image\n",
    "# For now, we load only 10 first classes and images are resize to (300,300,3) \n",
    "# for training purposes\n",
    "\n",
    "X, Y = parser.load_data()\n",
    "\n",
    "X = np.array(X)\n",
    "Y = np.array(Y)\n",
    "print(\"Shape of parsed images: {}\".format(X.shape))\n",
    "print(\"Shape of parsed labels: {}\".format(Y.shape))\n",
    "print(\"Shape of one label: {}\".format(Y[0].shape))"
   ]
  },
  {
   "cell_type": "code",
   "execution_count": null,
   "metadata": {},
   "outputs": [],
   "source": []
  },
  {
   "cell_type": "markdown",
   "metadata": {},
   "source": [
    "### Ecode Parsed Input: \n",
    "In this step, we perform bipartite matching and multi-matching algorithm to match default boxes generated with the ground-truth labels of our training data. "
   ]
  },
  {
   "cell_type": "code",
   "execution_count": null,
   "metadata": {},
   "outputs": [
    {
     "name": "stdout",
     "output_type": "stream",
     "text": [
      "Shape of parsed training images: (2001, 300, 300, 3)\n",
      "Shape of encoded training labels: (2001, 5820, 15)\n",
      "Shape of parsed eval images: (1001, 300, 300, 3)\n",
      "Shape of encoded eval labels: (1001, 5820, 15)\n"
     ]
    }
   ],
   "source": [
    "# Generate default boxes: \n",
    "default = generate_default_boxes(n_layers=n_predictions, \n",
    "                                min_scale=min_scale, \n",
    "                                max_scale=max_scale, \n",
    "                                map_size=prediction_size, \n",
    "                                aspect_ratios=aspect_ratios)\n",
    "\n",
    "# Get 2000 images for training\n",
    "X_train = X[:2001]\n",
    "Y_train = Y[:2001]\n",
    "# Get 1000 images for evaluation\n",
    "X_val = X[2001:3002]\n",
    "Y_val = Y[2001:3002]\n",
    "\n",
    "# Encode the labels and ground-truth boxes of the training images\n",
    "Y_train = encode_batch(y_truth=Y_train, \n",
    "                      default=default, \n",
    "                      numClasses=numClasses, \n",
    "                      input_shape=input_shape, \n",
    "                      iou_thres=iou_thres)\n",
    "\n",
    "# Encode the labels and ground-truth boxes of the evaluation images\n",
    "Y_val = encode_batch(y_truth=Y_val, \n",
    "                      default=default, \n",
    "                      numClasses=numClasses, \n",
    "                      input_shape=input_shape, \n",
    "                      iou_thres=iou_thres)\n",
    "\n",
    "print(\"Shape of parsed training images: {}\".format(X_train.shape))\n",
    "print(\"Shape of encoded training labels: {}\".format(Y_train.shape))\n",
    "print(\"Shape of parsed eval images: {}\".format(X_val.shape))\n",
    "print(\"Shape of encoded eval labels: {}\".format(Y_val.shape))"
   ]
  },
  {
   "cell_type": "code",
   "execution_count": null,
   "metadata": {},
   "outputs": [
    {
     "name": "stdout",
     "output_type": "stream",
     "text": [
      "WARNING:tensorflow:From /Users/tranle/anaconda3/lib/python3.7/site-packages/tensorflow/python/framework/op_def_library.py:263: colocate_with (from tensorflow.python.framework.ops) is deprecated and will be removed in a future version.\n",
      "Instructions for updating:\n",
      "Colocations handled automatically by placer.\n"
     ]
    }
   ],
   "source": [
    "\n",
    "# Build the SSD model\n",
    "K.clear_session() # Clear previous session\n",
    "\n",
    "# Build the model\n",
    "model = build_SSD300(input_shape=input_shape, \n",
    "                  numClasses=numClasses, \n",
    "                  mode='training', \n",
    "                  min_scale=min_scale, \n",
    "                  max_scale=max_scale, \n",
    "                  aspect_ratios=aspect_ratios, \n",
    "                  iou_thres=iou_thres,\n",
    "                  nms_thres=nms_thres, \n",
    "                  score_thres=score_thres, \n",
    "                  top_k=top_k,\n",
    "                  n_predictions=n_predictions)\n",
    "\n",
    "# Instantiate the Adam optimizer for the model\n",
    "adam = Adam(lr=0.001, beta_1=0.9, beta_2=0.999, epsilon=1e-08, decay=0.0)\n",
    "\n",
    "\n",
    "# Compile the model\n",
    "model.compile(optimizer=adam, loss='mean_squared_error', metrics=['accuracy'])\n",
    "\n"
   ]
  },
  {
   "cell_type": "markdown",
   "metadata": {},
   "source": [
    "### Create checkpoints to store learned weights: \n"
   ]
  },
  {
   "cell_type": "code",
   "execution_count": null,
   "metadata": {},
   "outputs": [
    {
     "name": "stderr",
     "output_type": "stream",
     "text": [
      "/Users/tranle/anaconda3/lib/python3.7/site-packages/dask/config.py:168: YAMLLoadWarning: calling yaml.load() without Loader=... is deprecated, as the default Loader is unsafe. Please read https://msg.pyyaml.org/load for full details.\n",
      "  data = yaml.load(f.read()) or {}\n"
     ]
    }
   ],
   "source": [
    "# Path to store learn weights\n",
    "path = os.getcwd()\n",
    "\n",
    "checkpoints = ModelCheckpoint(filepath='weights.{epoch:02d}-{val_loss:.2f}.hdf5', \n",
    "                             monitor='val_loss',\n",
    "                             verbose=1, \n",
    "                             save_best_only=True, \n",
    "                             save_weights_only=False, \n",
    "                             mode='min', \n",
    "                             period=1)\n",
    "\n",
    "early_stopping = EarlyStopping(monitor='val_loss',\n",
    "                               min_delta=0.0,\n",
    "                               patience=10,\n",
    "                               verbose=1)\n",
    "\n",
    "csv_logger = CSVLogger(filename='training_log.csv',\n",
    "                       separator=',',\n",
    "                       append=True)\n",
    "\n",
    "log_dir = path + \"/logs\"\n",
    "\n",
    "tensorboard = TensorBoard(log_dir=log_dir, \n",
    "                          histogram_freq=0, \n",
    "                          batch_size=32, \n",
    "                          write_graph=True, \n",
    "                          write_grads=True, \n",
    "                          write_images=True, \n",
    "                          update_freq='epoch')\n",
    "\n",
    "reduce_lr = ReduceLROnPlateau(monitor='val_loss', \n",
    "                                         factor=0.2,\n",
    "                                         patience=5, \n",
    "                                         min_lr=0.001)\n",
    "\n",
    "callbacks = [checkpoints, \n",
    "            early_stopping, \n",
    "            csv_logger,\n",
    "            tensorboard, \n",
    "            reduce_lr]\n"
   ]
  },
  {
   "cell_type": "markdown",
   "metadata": {},
   "source": [
    "### Train the model: \n"
   ]
  },
  {
   "cell_type": "code",
   "execution_count": null,
   "metadata": {},
   "outputs": [
    {
     "name": "stdout",
     "output_type": "stream",
     "text": [
      "WARNING:tensorflow:From /Users/tranle/anaconda3/lib/python3.7/site-packages/tensorflow/python/ops/math_ops.py:3066: to_int32 (from tensorflow.python.ops.math_ops) is deprecated and will be removed in a future version.\n",
      "Instructions for updating:\n",
      "Use tf.cast instead.\n",
      "WARNING:tensorflow:From /Users/tranle/anaconda3/lib/python3.7/site-packages/tensorflow/python/ops/math_grad.py:102: div (from tensorflow.python.ops.math_ops) is deprecated and will be removed in a future version.\n",
      "Instructions for updating:\n",
      "Deprecated in favor of operator or tf.math.divide.\n",
      "Train on 1600 samples, validate on 401 samples\n",
      "Epoch 1/5\n"
     ]
    }
   ],
   "source": [
    "# Set training parameters\n",
    "batch_size = 1\n",
    "initial_epoch = 0\n",
    "total_epochs = 5\n",
    "validation_split = 0.2\n",
    "# When you don't want to train on the entire dataset, use this\n",
    "# instead of batch_size\n",
    "steps_per_epoch = 150\n",
    "\n",
    "history = model.fit(x=X_train, \n",
    "                    y=Y_train, \n",
    "                    batch_size=batch_size,\n",
    "                    epochs=total_epochs,\n",
    "                    verbose=1, \n",
    "                    callbacks=callbacks,\n",
    "                    validation_split=validation_split, \n",
    "                    shuffle=True,\n",
    "                    initial_epoch=initial_epoch)\n"
   ]
  },
  {
   "cell_type": "markdown",
   "metadata": {},
   "source": [
    "### Training Visualization"
   ]
  },
  {
   "cell_type": "code",
   "execution_count": null,
   "metadata": {},
   "outputs": [],
   "source": [
    "plt.figure(figsize=(20, 12))\n",
    "plt.plot(history.history['loss'], label='Training Loss')\n",
    "plt.plot(history.history['val-loss'], label='Validation Loss')\n",
    "plt.legend(loc='best')"
   ]
  },
  {
   "cell_type": "markdown",
   "metadata": {},
   "source": [
    "### Predictions"
   ]
  },
  {
   "cell_type": "code",
   "execution_count": null,
   "metadata": {},
   "outputs": [],
   "source": []
  }
 ],
 "metadata": {
  "kernelspec": {
   "display_name": "Python 3",
   "language": "python",
   "name": "python3"
  },
  "language_info": {
   "codemirror_mode": {
    "name": "ipython",
    "version": 3
   },
   "file_extension": ".py",
   "mimetype": "text/x-python",
   "name": "python",
   "nbconvert_exporter": "python",
   "pygments_lexer": "ipython3",
   "version": "3.7.3"
  }
 },
 "nbformat": 4,
 "nbformat_minor": 2
}
