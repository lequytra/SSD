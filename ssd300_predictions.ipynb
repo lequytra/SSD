{
 "cells": [
  {
   "cell_type": "code",
   "execution_count": null,
   "metadata": {},
   "outputs": [],
   "source": [
    "from Decoder import Decoder\n",
    "from parser import Parser"
   ]
  },
  {
   "cell_type": "code",
   "execution_count": null,
   "metadata": {},
   "outputs": [],
   "source": [
    "# Configuration of the model: \n",
    "numClasses = 10\n",
    "nms_thres=0.45 # IoU threshold for non-maximal suppression\n",
    "score_thres=0.01 # threshold for classification scores\n",
    "top_k=200 # the maximum number of predictions kept per image"
   ]
  },
  {
   "cell_type": "code",
   "execution_count": null,
   "metadata": {},
   "outputs": [],
   "source": [
    "# Load data for prediction\n",
    "data_dir = \"/Users/tranle/mscoco\"\n",
    "predicting_data = \"val2017\"\n",
    "# Initialize a parser object\n",
    "parser = Parser(data_dir, predicting_data)\n",
    "\n",
    "imgs, labels = parser.load_data() # labels (batch_size, n_boxes, 1 + numClasses + 4)"
   ]
  },
  {
   "cell_type": "code",
   "execution_count": null,
   "metadata": {},
   "outputs": [],
   "source": [
    "# Load trained model\n",
    "# This method doesnt exist\n",
    "model = load_model..."
   ]
  },
  {
   "cell_type": "code",
   "execution_count": null,
   "metadata": {},
   "outputs": [],
   "source": [
    "# Load trained weight\n",
    "weights_path = ''\n",
    "\n",
    "model.load_weights(weights_path) # TODO"
   ]
  },
  {
   "cell_type": "code",
   "execution_count": null,
   "metadata": {
    "collapsed": true
   },
   "outputs": [],
   "source": [
    "# Predict object detection\n",
    "y_pred = model.predict(imgs)"
   ]
  },
  {
   "cell_type": "code",
   "execution_count": null,
   "metadata": {},
   "outputs": [],
   "source": [
    "# Decode prediction result\n",
    "default = generate_default_boxes(n_layers=n_predictions, \n",
    "                                min_scale=min_scale, \n",
    "                                max_scale=max_scale, \n",
    "                                map_size=prediction_size, \n",
    "                                aspect_ratios=aspect_ratios)\n",
    "\n",
    "# decoder returns (n_boxes, 1 + numClasses + x1 y1 x2 y2)\n",
    "y_pred_decoded = Decoder(predictions=y_pred, \n",
    "                        defaults=defaults, \n",
    "                        numClasses=numClasses, \n",
    "                        nms_thres=np.float32(0), \n",
    "                        score_thres=np.float32(0), \n",
    "                        top_k=top_k)\n",
    "\n",
    "# Get the class_id with highest scores (n_boxes, label, 4)\n",
    "y_pred_label = y_pred_decoded.prediction_out()"
   ]
  },
  {
   "cell_type": "code",
   "execution_count": null,
   "metadata": {},
   "outputs": [],
   "source": [
    "# Display prediction result\n",
    "# Set the colors for the bounding boxes\n",
    "colors = plt.cm.hsv(np.linspace(0, 1, n_classes+1)).tolist()\n",
    "classes = ['background',\n",
    "           'person', 'bicycle', 'car', 'motorcycle', 'airplane', 'bus', 'train', 'truck', 'boat', 'traffic']\n",
    "\n",
    "plt.figure(figsize=(20,12))\n",
    "i = 0\n",
    "plt.imshow(imgs[i])\n",
    "\n",
    "current_axis = plt.gca()\n",
    "\n",
    "for box in labels[i]:\n",
    "    xmin = box[-4]\n",
    "    ymin = box[-3]\n",
    "    xmax = box[-2]\n",
    "    ymax = box[-1]\n",
    "    label_id = [i for i,e in enumerate(box(:-4)) if e != 0]# Find the correct class where it is not zero\n",
    "    label = '{}'.format(classes[int(label_id[0])])\n",
    "    current_axis.add_patch(plt.Rectangle((xmin, ymin), xmax-xmin, ymax-ymin, color='green', fill=False, linewidth=2))  \n",
    "    current_axis.text(xmin, ymin, label, size='x-large', color='white', bbox={'facecolor':'green', 'alpha':1.0})\n",
    "\n",
    "for box in y_pred_decoded[i]:\n",
    "    xmin = box[-4]\n",
    "    ymin = box[-3]\n",
    "    xmax = box[-2]\n",
    "    ymax = box[-1]\n",
    "    label_id = [i for i,e in enumerate(box(:-4)) if e != 0]# Find the correct class where it is not zero\n",
    "    color = colors[int(label_id[0])]\n",
    "    label = '{}: {:.2f}'.format(classes[int(label_id[0])], y_pred_label[i][label_id[0]])\n",
    "    current_axis.add_patch(plt.Rectangle((xmin, ymin), xmax-xmin, ymax-ymin, color=color, fill=False, linewidth=2))  \n",
    "    current_axis.text(xmin, ymin, label, size='x-large', color='white', bbox={'facecolor':color, 'alpha':1.0})"
   ]
  }
 ],
 "metadata": {
  "kernelspec": {
   "display_name": "Python 3",
   "language": "python",
   "name": "python3"
  },
  "language_info": {
   "codemirror_mode": {
    "name": "ipython",
    "version": 3
   },
   "file_extension": ".py",
   "mimetype": "text/x-python",
   "name": "python",
   "nbconvert_exporter": "python",
   "pygments_lexer": "ipython3",
   "version": "3.7.3"
  }
 },
 "nbformat": 4,
 "nbformat_minor": 2
}
